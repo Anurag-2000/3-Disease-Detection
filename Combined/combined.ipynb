{
 "cells": [
  {
   "cell_type": "markdown",
   "metadata": {
    "id": "W0dTUvJAXuT4"
   },
   "source": [
    "# Fianl Projects"
   ]
  },
  {
   "cell_type": "markdown",
   "metadata": {
    "id": "c-w9X9Ymjki1"
   },
   "source": [
    "## All Liberaries"
   ]
  },
  {
   "cell_type": "code",
   "execution_count": 1,
   "metadata": {
    "id": "3y6CRiDCzrYe"
   },
   "outputs": [
    {
     "ename": "ModuleNotFoundError",
     "evalue": "No module named 'tensorflow'",
     "output_type": "error",
     "traceback": [
      "\u001b[0;31m---------------------------------------------------------------------------\u001b[0m",
      "\u001b[0;31mModuleNotFoundError\u001b[0m                       Traceback (most recent call last)",
      "\u001b[0;32m<ipython-input-1-33e027a187fc>\u001b[0m in \u001b[0;36m<module>\u001b[0;34m\u001b[0m\n\u001b[1;32m      1\u001b[0m \u001b[0;32mimport\u001b[0m \u001b[0mnumpy\u001b[0m \u001b[0;32mas\u001b[0m \u001b[0mnp\u001b[0m\u001b[0;34m\u001b[0m\u001b[0;34m\u001b[0m\u001b[0m\n\u001b[0;32m----> 2\u001b[0;31m \u001b[0;32mimport\u001b[0m \u001b[0mtensorflow\u001b[0m \u001b[0;32mas\u001b[0m \u001b[0mtf\u001b[0m\u001b[0;34m\u001b[0m\u001b[0;34m\u001b[0m\u001b[0m\n\u001b[0m\u001b[1;32m      3\u001b[0m \u001b[0;32mimport\u001b[0m \u001b[0mpandas\u001b[0m \u001b[0;32mas\u001b[0m \u001b[0mpd\u001b[0m\u001b[0;34m\u001b[0m\u001b[0;34m\u001b[0m\u001b[0m\n\u001b[1;32m      4\u001b[0m \u001b[0;32mimport\u001b[0m \u001b[0mmatplotlib\u001b[0m\u001b[0;34m.\u001b[0m\u001b[0mpyplot\u001b[0m \u001b[0;32mas\u001b[0m \u001b[0mplt\u001b[0m\u001b[0;34m\u001b[0m\u001b[0;34m\u001b[0m\u001b[0m\n\u001b[1;32m      5\u001b[0m \u001b[0;32mimport\u001b[0m \u001b[0mmatplotlib\u001b[0m\u001b[0;34m.\u001b[0m\u001b[0mimage\u001b[0m \u001b[0;32mas\u001b[0m \u001b[0mmpimg\u001b[0m\u001b[0;34m\u001b[0m\u001b[0;34m\u001b[0m\u001b[0m\n",
      "\u001b[0;31mModuleNotFoundError\u001b[0m: No module named 'tensorflow'"
     ]
    }
   ],
   "source": [
    "import numpy as np\n",
    "import tensorflow as tf\n",
    "import pandas as pd\n",
    "import matplotlib.pyplot as plt\n",
    "import matplotlib.image as mpimg\n",
    "from keras.preprocessing.image import ImageDataGenerator\n",
    "from tensorflow.keras.optimizers import RMSprop\n",
    "from keras.preprocessing import image\n",
    "from google.colab import files\n",
    "from keras.preprocessing.image import load_img, img_to_array, ImageDataGenerator\n",
    "from keras.applications.vgg16 import preprocess_input\n",
    "import keras\n",
    "import numpy as np\n",
    "from keras.preprocessing import image"
   ]
  },
  {
   "cell_type": "markdown",
   "metadata": {
    "id": "yTJaI0fiYFQV"
   },
   "source": [
    "##X-ray"
   ]
  },
  {
   "cell_type": "markdown",
   "metadata": {
    "id": "j_UoFqP7j5HR"
   },
   "source": [
    "### Input"
   ]
  },
  {
   "cell_type": "code",
   "execution_count": 56,
   "metadata": {
    "id": "V2IYVtBM0I8R"
   },
   "outputs": [],
   "source": [
    "## Loading The model\n",
    "\n",
    "xray_model = keras.models.load_model('./xray_model')\n",
    "\n",
    "####   Add the Image URL BELOW for Prediction \n",
    "\n",
    "xray_path='./chest-xray-test.jpeg'"
   ]
  },
  {
   "cell_type": "markdown",
   "metadata": {
    "id": "RsxlnLZQj7tO"
   },
   "source": [
    "### Processing The Image"
   ]
  },
  {
   "cell_type": "code",
   "execution_count": 57,
   "metadata": {
    "id": "iyq34DlJ3C8F"
   },
   "outputs": [],
   "source": [
    "#load the image\n",
    "my_image = load_img(xray_path, target_size=(300, 300))\n",
    "\n",
    "#preprocess the image\n",
    "my_image = img_to_array(my_image)\n",
    "my_image = my_image.reshape((1, my_image.shape[0], my_image.shape[1], my_image.shape[2]))\n",
    "my_image = preprocess_input(my_image)\n",
    "\n"
   ]
  },
  {
   "cell_type": "markdown",
   "metadata": {
    "id": "8wrdRpLAkA49"
   },
   "source": [
    "### Result"
   ]
  },
  {
   "cell_type": "code",
   "execution_count": 58,
   "metadata": {
    "colab": {
     "base_uri": "https://localhost:8080/"
    },
    "id": "SKU7dLGTkD3t",
    "outputId": "a4f59a52-d8c2-41d5-9fd4-19658b6df578"
   },
   "outputs": [
    {
     "name": "stdout",
     "output_type": "stream",
     "text": [
      "YES\n"
     ]
    }
   ],
   "source": [
    "#make the prediction\n",
    "result = xray_model.predict(my_image)\n",
    "result=int(result[0,0])\n",
    "#print(int(result[0,0]))\n",
    "if result==1:\n",
    "  prediction='NO'\n",
    "else:\n",
    "  prediction='YES'\n",
    "print(prediction)"
   ]
  },
  {
   "cell_type": "markdown",
   "metadata": {
    "id": "0Nh9yT5OYIvu"
   },
   "source": [
    "## Parkinson"
   ]
  },
  {
   "cell_type": "markdown",
   "metadata": {
    "id": "3PrutzmhYV7w"
   },
   "source": [
    "### Main Code"
   ]
  },
  {
   "cell_type": "code",
   "execution_count": 59,
   "metadata": {
    "id": "gFb6rjwO9l5D"
   },
   "outputs": [],
   "source": [
    "from xgboost import XGBClassifier\n",
    "parkinsons_model = XGBClassifier()\n",
    "#parkinsons_model.load_model('/content/drive/MyDrive/parkinsons_model2')"
   ]
  },
  {
   "cell_type": "code",
   "execution_count": 60,
   "metadata": {
    "id": "s_UcAn_a-VLC"
   },
   "outputs": [],
   "source": [
    "df=pd.read_csv('/content/drive/MyDrive/parkinsons.data')"
   ]
  },
  {
   "cell_type": "code",
   "execution_count": 61,
   "metadata": {
    "id": "IDzwPqHj-ZiP"
   },
   "outputs": [],
   "source": [
    "df = df.drop(['name'], axis=1)\n",
    "\n",
    "X = df.loc[:,df.columns != 'status'].values\n",
    "y = df.loc[:,['status']].values\n"
   ]
  },
  {
   "cell_type": "code",
   "execution_count": 62,
   "metadata": {
    "id": "SKf4IwWRAhct"
   },
   "outputs": [],
   "source": [
    "from sklearn.model_selection import train_test_split\n",
    "X_train, X_test, y_train, y_test = train_test_split(X,y,test_size = 0.2, random_state = 1)\n",
    "#parkinsons_model.predict(scaler.transform([[]]))\n"
   ]
  },
  {
   "cell_type": "code",
   "execution_count": 63,
   "metadata": {
    "id": "4FYkB3PJ-xAD"
   },
   "outputs": [],
   "source": [
    "# from sklearn.preprocessing import MinMaxScaler \n",
    "# scaler  = MinMaxScaler((-1,1))\n",
    "# X_train = scaler.fit_transform(X_train)\n",
    "# X_test = scaler.transform(X_test)\n",
    "\n",
    "from sklearn.preprocessing import MinMaxScaler \n",
    "sc  = MinMaxScaler((-1,1))\n",
    "\n",
    "X_train[:,:] = sc.fit_transform(X_train) # normalisation\n",
    "X_test[:,:] = sc.transform(X_test)"
   ]
  },
  {
   "cell_type": "code",
   "execution_count": 64,
   "metadata": {
    "colab": {
     "base_uri": "https://localhost:8080/"
    },
    "id": "o1UDeRbaXCRs",
    "outputId": "1abbc6f3-f000-488b-c197-2f0d6b991f27"
   },
   "outputs": [
    {
     "name": "stderr",
     "output_type": "stream",
     "text": [
      "/usr/local/lib/python3.7/dist-packages/sklearn/preprocessing/_label.py:235: DataConversionWarning: A column-vector y was passed when a 1d array was expected. Please change the shape of y to (n_samples, ), for example using ravel().\n",
      "  y = column_or_1d(y, warn=True)\n",
      "/usr/local/lib/python3.7/dist-packages/sklearn/preprocessing/_label.py:268: DataConversionWarning: A column-vector y was passed when a 1d array was expected. Please change the shape of y to (n_samples, ), for example using ravel().\n",
      "  y = column_or_1d(y, warn=True)\n"
     ]
    },
    {
     "data": {
      "text/plain": [
       "XGBClassifier(base_score=0.5, booster='gbtree', colsample_bylevel=1,\n",
       "              colsample_bynode=1, colsample_bytree=1, gamma=0,\n",
       "              learning_rate=0.1, max_delta_step=0, max_depth=3,\n",
       "              min_child_weight=1, missing=None, n_estimators=100, n_jobs=1,\n",
       "              nthread=None, objective='binary:logistic', random_state=0,\n",
       "              reg_alpha=0, reg_lambda=1, scale_pos_weight=1, seed=None,\n",
       "              silent=None, subsample=1, verbosity=1)"
      ]
     },
     "execution_count": 64,
     "metadata": {},
     "output_type": "execute_result"
    }
   ],
   "source": [
    "parkinsons_model.fit(X_train,y_train)"
   ]
  },
  {
   "cell_type": "markdown",
   "metadata": {
    "id": "tQTkNHLGYZhy"
   },
   "source": [
    "### Input Data"
   ]
  },
  {
   "cell_type": "code",
   "execution_count": 66,
   "metadata": {
    "id": "biCkWjJRStbT"
   },
   "outputs": [],
   "source": [
    "#### Input The DATA From The test reports Here\n",
    "\n",
    "X_in=[119.992,\t157.302,\t74.997,\t0.00784,\t0.00007,\t0.00370,\t0.00554,\t0.01109,\t0.04374,\t0.426,\t0.02182,\t0.03130,\t0.02971,\t0.06545,\t0.02211,\t21.033,\t0.414783,\t0.815285,\t-4.813031,\t0.266482,\t2.301442,\t0.284654]\n"
   ]
  },
  {
   "cell_type": "markdown",
   "metadata": {
    "id": "bI2HqLAgYdDS"
   },
   "source": [
    "### Result"
   ]
  },
  {
   "cell_type": "code",
   "execution_count": 68,
   "metadata": {
    "colab": {
     "base_uri": "https://localhost:8080/"
    },
    "id": "PJCJUHE--623",
    "outputId": "1ff717a5-ccc1-4c66-a9e3-5e29b4c22935"
   },
   "outputs": [
    {
     "name": "stdout",
     "output_type": "stream",
     "text": [
      "YES\n"
     ]
    }
   ],
   "source": [
    "result = parkinsons_model.predict(sc.transform([X_in]))\n",
    "if result[0] == 0:\n",
    "  prediction = 'NO'\n",
    "else:\n",
    "  prediction = 'YES'\n",
    "print(prediction)"
   ]
  },
  {
   "cell_type": "markdown",
   "metadata": {
    "id": "_NTUTIpYYMQU"
   },
   "source": [
    "## Brain Tumor"
   ]
  },
  {
   "cell_type": "markdown",
   "metadata": {
    "id": "H8N8u4rGalMb"
   },
   "source": [
    "### Input"
   ]
  },
  {
   "cell_type": "code",
   "execution_count": 69,
   "metadata": {
    "id": "rDAPKAkFa3QU"
   },
   "outputs": [],
   "source": [
    "## Loading The model\n",
    "\n",
    "brain_tumor_model=keras.models.load_model('/content/drive/MyDrive/brain_tumor_model')\n",
    "\n",
    "####   Add the Image URL BELOW for Prediction \n",
    "\n",
    "test_image = image.load_img('/content/drive/MyDrive/brain_tumor/yes/Y100.JPG', target_size = (300,300))"
   ]
  },
  {
   "cell_type": "markdown",
   "metadata": {
    "id": "nOWy3eIQa5Zk"
   },
   "source": [
    "### process img"
   ]
  },
  {
   "cell_type": "code",
   "execution_count": 70,
   "metadata": {
    "id": "jze2Crp-Z1iu"
   },
   "outputs": [],
   "source": [
    "test_image = image.img_to_array(test_image) \n",
    "test_image = np.expand_dims(test_image, axis = 0)\n"
   ]
  },
  {
   "cell_type": "markdown",
   "metadata": {
    "id": "o7FKhL0LbGhA"
   },
   "source": [
    "### Prediction"
   ]
  },
  {
   "cell_type": "code",
   "execution_count": 71,
   "metadata": {
    "colab": {
     "base_uri": "https://localhost:8080/"
    },
    "id": "jYrO4oGdyKX1",
    "outputId": "fd8b9a73-c26a-49ba-ffaa-fdcbae9d9d58"
   },
   "outputs": [
    {
     "name": "stdout",
     "output_type": "stream",
     "text": [
      "YES\n"
     ]
    }
   ],
   "source": [
    "result = brain_tumor_model.predict(test_image)\n",
    "result=int(result[0,0])\n",
    "if result == 1:\n",
    "  prediction = 'NO'\n",
    "else:\n",
    "  prediction = 'YES'\n",
    "print(prediction)"
   ]
  }
 ],
 "metadata": {
  "colab": {
   "collapsed_sections": [
    "c-w9X9Ymjki1",
    "3PrutzmhYV7w",
    "nOWy3eIQa5Zk",
    "o7FKhL0LbGhA"
   ],
   "name": "combined.ipynb",
   "provenance": []
  },
  "kernelspec": {
   "display_name": "Python 3",
   "language": "python",
   "name": "python3"
  },
  "language_info": {
   "codemirror_mode": {
    "name": "ipython",
    "version": 3
   },
   "file_extension": ".py",
   "mimetype": "text/x-python",
   "name": "python",
   "nbconvert_exporter": "python",
   "pygments_lexer": "ipython3",
   "version": "3.8.8"
  }
 },
 "nbformat": 4,
 "nbformat_minor": 1
}
